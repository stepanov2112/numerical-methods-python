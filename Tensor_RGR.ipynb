{
 "cells": [
  {
   "cell_type": "markdown",
   "metadata": {},
   "source": [
    "<center>Московский Авиационный Институт</center>\n",
    "<center>(Национальный Исследовательский Университет)</center>\n",
    "<br>\n",
    "<br>\n",
    "<br>\n",
    "<center>Кафедра: 806 «Вычислительная математика и программирование»</center>\n",
    "<center>Институт: «Информационные технологии и прикладная математика»</center>\n",
    "<center>Дисциплина: «Тензорный анализ»</center>\n",
    "<br>\n",
    "<br>\n",
    "<br>\n",
    "<br>\n",
    "<br>\n",
    "<br>\n",
    "<br>\n",
    "<center>Расчетно графическая работа №1.</center>\n",
    "<center>Тема:</center>\n",
    "<center>Криволинейные координаты. Метрический тензор. Тензорный анализ.</center>\n",
    "<br>\n",
    "<br>\n",
    "<br>\n",
    "<br>\n",
    "<br>\n",
    "<br>\n",
    "<br>\n",
    "<div style=\"text-align: right\"> Группа М80-103М-20 </div>\n",
    "<div style=\"text-align: right\"> Студент Степанов Тимур Петрович </div>\n",
    "<div style=\"text-align: right\"> Медведев С.В., Поповкин А.В. </div>\n",
    "<br>\n",
    "<br>\n",
    "<br>\n",
    "<br>\n",
    "<br>\n",
    "<br>\n",
    "<br>\n",
    "<center>Москва</center>\n",
    "<center>2020</center>\n",
    "<hr>"
   ]
  },
  {
   "cell_type": "markdown",
   "metadata": {},
   "source": [
    "Вариант № 21:\n",
    "\\begin{equation*}\n",
    " \\begin{cases}\n",
    "   x = x^1\n",
    "   \\\\\n",
    "   y = x^2(x^1)^3\n",
    "   \\\\\n",
    "   v_x = 1\n",
    "   \\\\\n",
    "   v_y = 3\\frac{x}{y}\n",
    " \\end{cases}\n",
    "\\end{equation*}"
   ]
  },
  {
   "cell_type": "code",
   "execution_count": 1,
   "metadata": {},
   "outputs": [],
   "source": [
    "import numpy as np\n",
    "import matplotlib.pyplot as plt \n",
    "from sympy import *\n",
    "import sympy as sp"
   ]
  },
  {
   "cell_type": "markdown",
   "metadata": {},
   "source": [
    "1. Указать область плоскости, в которой преобразование координат взаимнооднозначно."
   ]
  },
  {
   "cell_type": "markdown",
   "metadata": {},
   "source": [
    "\\begin{equation*}\n",
    "   Рассмотрим\\,преобразование\\,координат\\,x^i -> q^i,\\, где\\,x^i - декартовы\\,координаты,\\,а\\,q^i-криволинейные\\,координаты\n",
    "   \\\\\n",
    "   Тогда\\,матрица\\,прямого\\,преобразования:\n",
    "   \\\\\n",
    "   \\alpha^i_j = \\frac{\\partial x^j}{\\partial q^j}\n",
    "\\end{equation*}"
   ]
  },
  {
   "cell_type": "code",
   "execution_count": 2,
   "metadata": {},
   "outputs": [],
   "source": [
    "def pryamaya_matr(f1,f2):\n",
    "    x1, x2 = symbols('x1 x2')\n",
    "    matrix_pr_0 = diff(f1,x1)\n",
    "    matrix_pr_1 = diff(f2,x1)\n",
    "    matrix_pr_2 = diff(f1,x2)\n",
    "    matrix_pr_3 = diff(f2,x2)\n",
    "    matrix_pr = [[matrix_pr_0,matrix_pr_1],[matrix_pr_2,matrix_pr_3]]\n",
    "    return matrix_pr"
   ]
  },
  {
   "cell_type": "code",
   "execution_count": 3,
   "metadata": {
    "scrolled": false
   },
   "outputs": [
    {
     "data": {
      "text/latex": [
       "$\\displaystyle \\left[\\begin{matrix}1 & 3 x_{1}^{2} x_{2}\\\\0 & x_{1}^{3}\\end{matrix}\\right]$"
      ],
      "text/plain": [
       "Matrix([\n",
       "[1, 3*x1**2*x2],\n",
       "[0,      x1**3]])"
      ]
     },
     "metadata": {},
     "output_type": "display_data"
    }
   ],
   "source": [
    "x1, x2 = symbols('x1 x2')\n",
    "matrix_pr = pryamaya_matr(x1,x2*(x1)**3)\n",
    "s1 = sp.Matrix(matrix_pr)\n",
    "display(s1)"
   ]
  },
  {
   "cell_type": "code",
   "execution_count": 4,
   "metadata": {},
   "outputs": [
    {
     "name": "stdout",
     "output_type": "stream",
     "text": [
      "Определитель иматрицы прямого преобразования равен нулю при x1 = 0, что значит при x1 = 0 преобразование не взаимнооднозначно\n"
     ]
    }
   ],
   "source": [
    "print('Определитель иматрицы прямого преобразования равен нулю при x1 = 0, что значит при x1 = 0 преобразование не взаимнооднозначно')"
   ]
  },
  {
   "cell_type": "markdown",
   "metadata": {},
   "source": [
    "\\begin{equation*}\n",
    "   Матрица\\,обратного\\,преобразования:\n",
    "   \\\\\n",
    "   \\beta^i_j = \\frac{\\partial q^j}{\\partial x^j}\n",
    "\\end{equation*}"
   ]
  },
  {
   "cell_type": "code",
   "execution_count": 5,
   "metadata": {
    "scrolled": true
   },
   "outputs": [],
   "source": [
    "def obratnaya_matr(f1,f2):\n",
    "    x, y = symbols('x y')\n",
    "    matrix_obr_0 = diff(f1,x)\n",
    "    matrix_obr_1 = diff(f2,x)\n",
    "    matrix_obr_2 = diff(f1,y)\n",
    "    matrix_obr_3 = diff(f2,y)\n",
    "    matrix_obr = [[matrix_obr_0,matrix_obr_1],[matrix_obr_2,matrix_obr_3]]\n",
    "    return matrix_obr"
   ]
  },
  {
   "cell_type": "code",
   "execution_count": 6,
   "metadata": {
    "scrolled": true
   },
   "outputs": [
    {
     "data": {
      "text/latex": [
       "$\\displaystyle \\left[\\begin{matrix}1 & - \\frac{3 y}{x^{4}}\\\\0 & \\frac{1}{x^{3}}\\end{matrix}\\right]$"
      ],
      "text/plain": [
       "Matrix([\n",
       "[1, -3*y/x**4],\n",
       "[0,   x**(-3)]])"
      ]
     },
     "metadata": {},
     "output_type": "display_data"
    }
   ],
   "source": [
    "x, y = symbols('x y')\n",
    "matrix_obr = obratnaya_matr(x,y*(x)**(-3))\n",
    "s2 = sp.Matrix(matrix_obr)\n",
    "display(s2)"
   ]
  },
  {
   "cell_type": "code",
   "execution_count": 7,
   "metadata": {},
   "outputs": [
    {
     "name": "stdout",
     "output_type": "stream",
     "text": [
      "Единичная матрица:\n"
     ]
    },
    {
     "data": {
      "text/latex": [
       "$\\displaystyle \\left[\\begin{matrix}1 & 0\\\\0 & 1\\end{matrix}\\right]$"
      ],
      "text/plain": [
       "Matrix([\n",
       "[1, 0],\n",
       "[0, 1]])"
      ]
     },
     "metadata": {},
     "output_type": "display_data"
    }
   ],
   "source": [
    "print('Единичная матрица:')\n",
    "display(s1*s2.subs([(x,x1),(y,x2*x1**3)]))"
   ]
  },
  {
   "cell_type": "markdown",
   "metadata": {},
   "source": [
    "2. Построить координатную сетку на плоскости."
   ]
  },
  {
   "cell_type": "code",
   "execution_count": 8,
   "metadata": {},
   "outputs": [],
   "source": [
    "def f(x,z):\n",
    "    return z*x**3\n",
    "diap = np.linspace(-5, 5, 101)  # 101 точка между -10 b 10\n",
    "z = 2\n",
    "v1 = f(diap,z)\n",
    "z = 1\n",
    "v2 = f(diap,z)\n",
    "z = 0.5\n",
    "v3 = f(diap,z)\n",
    "z = 0.2\n",
    "v4 = f(diap,z)\n",
    "z = -2\n",
    "v5 = f(diap,z)\n",
    "z = -1\n",
    "v6 = f(diap,z)\n",
    "z = -0.5\n",
    "v7 = f(diap,z)\n",
    "z = -0.2\n",
    "v8 = f(diap,z)"
   ]
  },
  {
   "cell_type": "code",
   "execution_count": 9,
   "metadata": {
    "scrolled": false
   },
   "outputs": [
    {
     "data": {
      "image/png": "[encoded data removed]",
      "text/plain": [
       "<Figure size 432x288 with 1 Axes>"
      ]
     },
     "metadata": {
      "needs_background": "light"
     },
     "output_type": "display_data"
    }
   ],
   "source": [
    "plt.plot(diap, v1,color = 'r')\n",
    "plt.plot(diap, v2,color = 'r')\n",
    "plt.plot(diap, v3,color = 'r')\n",
    "plt.plot(diap, v4,color = 'r')\n",
    "plt.plot(diap, v5,color = 'b')\n",
    "plt.plot(diap, v6,color = 'b')\n",
    "plt.plot(diap, v7,color = 'b')\n",
    "plt.plot(diap, v8,color = 'b')\n",
    "plt.axhline(y=0,color = 'k')\n",
    "plt.axhline(y=2,color = 'r')\n",
    "plt.axhline(y=-2,color = 'b')\n",
    "plt.axhline(y=4,color = 'r')\n",
    "plt.axhline(y=-4,color = 'b')\n",
    "\n",
    "axes = plt.gca()\n",
    "axes.set_xlim([-3,3])\n",
    "axes.set_ylim([-5,5])\n",
    "plt.show()"
   ]
  },
  {
   "cell_type": "markdown",
   "metadata": {},
   "source": [
    "3. Векторы основного и взаимного базисов."
   ]
  },
  {
   "cell_type": "markdown",
   "metadata": {},
   "source": [
    "вектор основного базиса"
   ]
  },
  {
   "cell_type": "code",
   "execution_count": 10,
   "metadata": {},
   "outputs": [
    {
     "name": "stdout",
     "output_type": "stream",
     "text": [
      "вектор основного базиса 1(ковариантный):\n"
     ]
    },
    {
     "data": {
      "text/latex": [
       "$\\displaystyle \\left[\\begin{matrix}1\\\\3 x_{1}^{2} x_{2}\\end{matrix}\\right]$"
      ],
      "text/plain": [
       "Matrix([\n",
       "[         1],\n",
       "[3*x1**2*x2]])"
      ]
     },
     "metadata": {},
     "output_type": "display_data"
    },
    {
     "name": "stdout",
     "output_type": "stream",
     "text": [
      "вектор основного базиса 2(контрвариантный):\n"
     ]
    },
    {
     "data": {
      "text/latex": [
       "$\\displaystyle \\left[\\begin{matrix}0\\\\x_{1}^{3}\\end{matrix}\\right]$"
      ],
      "text/plain": [
       "Matrix([\n",
       "[    0],\n",
       "[x1**3]])"
      ]
     },
     "metadata": {},
     "output_type": "display_data"
    }
   ],
   "source": [
    "vect_osn_1 = [matrix_pr[0][0], matrix_pr[0][1]]\n",
    "vect_osn_2 = [matrix_pr[1][0], matrix_pr[1][1]]\n",
    "print('вектор основного базиса 1(ковариантный):')\n",
    "display(sp.Matrix(vect_osn_1))\n",
    "print('вектор основного базиса 2(контрвариантный):')\n",
    "display(sp.Matrix(vect_osn_2))"
   ]
  },
  {
   "cell_type": "code",
   "execution_count": 11,
   "metadata": {},
   "outputs": [
    {
     "name": "stdout",
     "output_type": "stream",
     "text": [
      "вектор взаимного базиса 1(контрвариантный):\n"
     ]
    },
    {
     "data": {
      "text/latex": [
       "$\\displaystyle \\left[\\begin{matrix}1\\\\0\\end{matrix}\\right]$"
      ],
      "text/plain": [
       "Matrix([\n",
       "[1],\n",
       "[0]])"
      ]
     },
     "metadata": {},
     "output_type": "display_data"
    },
    {
     "name": "stdout",
     "output_type": "stream",
     "text": [
      "вектор взаимного базиса 2(контрвариантный):\n"
     ]
    },
    {
     "data": {
      "text/latex": [
       "$\\displaystyle \\left[\\begin{matrix}- \\frac{3 y}{x^{4}}\\\\\\frac{1}{x^{3}}\\end{matrix}\\right]$"
      ],
      "text/plain": [
       "Matrix([\n",
       "[-3*y/x**4],\n",
       "[  x**(-3)]])"
      ]
     },
     "metadata": {},
     "output_type": "display_data"
    }
   ],
   "source": [
    "vect_vz_1 = [matrix_obr[0][0], matrix_obr[1][0]]\n",
    "vect_vz_2 = [matrix_obr[0][1], matrix_obr[1][1]]\n",
    "print('вектор взаимного базиса 1(контрвариантный):')\n",
    "display(sp.Matrix(vect_vz_1))\n",
    "print('вектор взаимного базиса 2(контрвариантный):')\n",
    "display(sp.Matrix(vect_vz_2))"
   ]
  },
  {
   "cell_type": "markdown",
   "metadata": {},
   "source": [
    "Для матрицы прямого перобразования"
   ]
  },
  {
   "cell_type": "code",
   "execution_count": 12,
   "metadata": {
    "scrolled": true
   },
   "outputs": [],
   "source": [
    "X = [1,1,-1,-1,1,1,-1,-1]\n",
    "Y = [1,1,1,1,-1,-1,-1,-1]\n",
    "U = [float(matrix_pr[0][0].subs([(x1,1),(x2,1)])),float(matrix_pr[1][0].subs([(x1,1),(x2,1)])),float(matrix_pr[0][0].subs([(x1,-1),(x2,-1)])),float(matrix_pr[1][0].subs([(x1,-1),(x2,-1)])),float(matrix_pr[0][0].subs([(x1,1),(x2,-1)])),float(matrix_pr[1][0].subs([(x1,1),(x2,-1)])),float(matrix_pr[0][0].subs([(x1,-1),(x2,1)])),float(matrix_pr[1][0].subs([(x1,-1),(x2,1)]))]\n",
    "V = [float(matrix_pr[0][1].subs([(x1,1),(x2,1)])),float(matrix_pr[1][1].subs([(x1,1),(x2,1)])),float(matrix_pr[0][1].subs([(x1,-1),(x2,-1)])),float(matrix_pr[1][1].subs([(x1,-1),(x2,-1)])),float(matrix_pr[0][1].subs([(x1,1),(x2,-1)])),float(matrix_pr[1][1].subs([(x1,1),(x2,-1)])),float(matrix_pr[0][1].subs([(x1,-1),(x2,1)])),float(matrix_pr[1][1].subs([(x1,-1),(x2,1)]))]"
   ]
  },
  {
   "cell_type": "code",
   "execution_count": 13,
   "metadata": {},
   "outputs": [
    {
     "data": {
      "image/png": "[encoded data removed]",
      "text/plain": [
       "<Figure size 432x288 with 1 Axes>"
      ]
     },
     "metadata": {
      "needs_background": "light"
     },
     "output_type": "display_data"
    }
   ],
   "source": [
    "X = [1,1,-1,-1,1,1,-1,-1]\n",
    "Y = [1,1,-1,-1,-1,-1,1,1]\n",
    "U = [float(vect_osn_1[0].subs([(x1,1),(x2,1)])),float(vect_osn_2[0].subs([(x1,1),(x2,1)])),float(vect_osn_1[0].subs([(x1,-1),(x2,1)])),float(vect_osn_2[0].subs([(x1,-1),(x2,1)])),float(vect_osn_1[0].subs([(x1,1),(x2,-1)])),float(vect_osn_2[0].subs([(x1,1),(x2,-1)])),float(vect_osn_1[0].subs([(x1,-1),(x2,-1)])),float(vect_osn_2[0].subs([(x1,-1),(x2,-1)]))]\n",
    "V = [float(vect_osn_1[1].subs([(x1,1),(x2,1)])),float(vect_osn_2[1].subs([(x1,1),(x2,1)])),float(vect_osn_1[1].subs([(x1,-1),(x2,1)])),float(vect_osn_2[1].subs([(x1,-1),(x2,1)])),float(vect_osn_1[1].subs([(x1,1),(x2,-1)])),float(vect_osn_2[1].subs([(x1,1),(x2,-1)])),float(vect_osn_1[1].subs([(x1,-1),(x2,-1)])),float(vect_osn_2[1].subs([(x1,-1),(x2,-1)]))]\n",
    "\n",
    "fig, ax = plt.subplots()\n",
    "\n",
    "ax.quiver(X, Y, U, V, scale=15)\n",
    "\n",
    "axes = plt.gca()\n",
    "plt.grid()\n",
    "axes.set_xlim([-3,3])\n",
    "axes.set_ylim([-7,7])\n",
    "plt.show()"
   ]
  },
  {
   "cell_type": "code",
   "execution_count": 14,
   "metadata": {
    "scrolled": true
   },
   "outputs": [
    {
     "name": "stdout",
     "output_type": "stream",
     "text": [
      "[1, 3*x1**2*x2]\n",
      "3\n"
     ]
    }
   ],
   "source": [
    "print(vect_osn_1)\n",
    "print(vect_osn_1[1].subs([(x1,1),(x2,1)]))"
   ]
  },
  {
   "cell_type": "markdown",
   "metadata": {},
   "source": [
    "Для матрицы обратного преобразования"
   ]
  },
  {
   "cell_type": "code",
   "execution_count": 15,
   "metadata": {
    "scrolled": true
   },
   "outputs": [],
   "source": [
    "X = [1,1,-1,-1,1,1,-1,-1]\n",
    "Y = [1,1,1,1,-1,-1,-1,-1]\n",
    "U = [float(matrix_obr[0][0].subs([(x,1),(y,1)])),float(matrix_obr[0][1].subs([(x,1),(y,1)])),float(matrix_obr[0][0].subs([(x,-1),(y,1)])),float(matrix_obr[0][1].subs([(x,-1),(y,1)])),float(matrix_obr[0][0].subs([(x,1),(y,-1)])),float(matrix_obr[0][1].subs([(x,1),(y,-1)])),float(matrix_obr[0][0].subs([(x,-1),(y,-1)])),float(matrix_obr[0][1].subs([(x,-1),(y,-1)]))]\n",
    "V = [float(matrix_obr[1][0].subs([(x,1),(y,1)])),float(matrix_obr[1][1].subs([(x,1),(y,1)])),float(matrix_obr[1][0].subs([(x,-1),(y,1)])),float(matrix_obr[1][1].subs([(x,-1),(y,1)])),float(matrix_obr[1][0].subs([(x,1),(y,-1)])),float(matrix_obr[1][1].subs([(x,1),(y,-1)])),float(matrix_obr[1][0].subs([(x,-1),(y,-1)])),float(matrix_obr[1][1].subs([(x,-1),(y,-1)]))]"
   ]
  },
  {
   "cell_type": "code",
   "execution_count": 16,
   "metadata": {},
   "outputs": [
    {
     "data": {
      "image/png": "[encoded data removed]",
      "text/plain": [
       "<Figure size 432x288 with 1 Axes>"
      ]
     },
     "metadata": {
      "needs_background": "light"
     },
     "output_type": "display_data"
    }
   ],
   "source": [
    "fig, ax = plt.subplots()\n",
    "\n",
    "ax.quiver(X, Y, U, V, scale=15)\n",
    "\n",
    "axes = plt.gca()\n",
    "axes.set_xlim([-3,3])\n",
    "axes.set_ylim([-5,5])\n",
    "plt.grid()\n",
    "plt.show()"
   ]
  },
  {
   "cell_type": "markdown",
   "metadata": {},
   "source": [
    "5. Матрицы метрического тензора"
   ]
  },
  {
   "cell_type": "markdown",
   "metadata": {},
   "source": [
    "\\begin{equation*}\n",
    "    g_{ij} = (э_i*э_j)\n",
    "    \\\\\n",
    "    g^{ij} = (э^i*э^j)\n",
    "\\end{equation*}"
   ]
  },
  {
   "cell_type": "code",
   "execution_count": 17,
   "metadata": {},
   "outputs": [],
   "source": [
    "def metr_tenz(v1,v2):\n",
    "    a_1 = v1[0]*v1[0]+v1[1]*v1[1]\n",
    "    a_2 = v1[0]*v2[0]+v1[1]*v2[1]\n",
    "    a_3 = v2[0]*v1[0]+v2[1]*v1[1]\n",
    "    a_4 = v2[0]*v2[0]+v2[1]*v2[1]\n",
    "    a = [[a_1, a_2],[a_3, a_4]]\n",
    "    return a"
   ]
  },
  {
   "cell_type": "code",
   "execution_count": 18,
   "metadata": {
    "scrolled": true
   },
   "outputs": [
    {
     "name": "stdout",
     "output_type": "stream",
     "text": [
      "ковариантный метрический тензор:\n"
     ]
    },
    {
     "data": {
      "text/latex": [
       "$\\displaystyle \\left[\\begin{matrix}9 x_{1}^{4} x_{2}^{2} + 1 & 3 x_{1}^{5} x_{2}\\\\3 x_{1}^{5} x_{2} & x_{1}^{6}\\end{matrix}\\right]$"
      ],
      "text/plain": [
       "Matrix([\n",
       "[9*x1**4*x2**2 + 1, 3*x1**5*x2],\n",
       "[       3*x1**5*x2,      x1**6]])"
      ]
     },
     "metadata": {},
     "output_type": "display_data"
    },
    {
     "name": "stdout",
     "output_type": "stream",
     "text": [
      "контрвариантный метрический тензор:\n"
     ]
    },
    {
     "data": {
      "text/latex": [
       "$\\displaystyle \\left[\\begin{matrix}1 & - \\frac{3 y}{x^{4}}\\\\- \\frac{3 y}{x^{4}} & \\frac{1}{x^{6}} + \\frac{9 y^{2}}{x^{8}}\\end{matrix}\\right]$"
      ],
      "text/plain": [
       "Matrix([\n",
       "[        1,             -3*y/x**4],\n",
       "[-3*y/x**4, x**(-6) + 9*y**2/x**8]])"
      ]
     },
     "metadata": {},
     "output_type": "display_data"
    }
   ],
   "source": [
    "metr_tenz_1 = metr_tenz(vect_osn_1,vect_osn_2)\n",
    "metr_tenz_2 = metr_tenz(vect_vz_1,vect_vz_2)\n",
    "m1 = sp.Matrix(metr_tenz_1)\n",
    "m2 = sp.Matrix(metr_tenz_2)\n",
    "print('ковариантный метрический тензор:')\n",
    "display(m1)\n",
    "print('контрвариантный метрический тензор:')\n",
    "display(m2)"
   ]
  },
  {
   "cell_type": "code",
   "execution_count": 19,
   "metadata": {},
   "outputs": [
    {
     "data": {
      "text/latex": [
       "$\\displaystyle \\left[\\begin{matrix}1\\\\- \\frac{3 x_{2}}{x_{1}}\\\\- \\frac{3 x_{2}}{x_{1}}\\\\\\frac{9 x_{2}^{2}}{x_{1}^{2}} + \\frac{1}{x_{1}^{6}}\\end{matrix}\\right]$"
      ],
      "text/plain": [
       "Matrix([\n",
       "[                       1],\n",
       "[                -3*x2/x1],\n",
       "[                -3*x2/x1],\n",
       "[9*x2**2/x1**2 + x1**(-6)]])"
      ]
     },
     "metadata": {},
     "output_type": "display_data"
    }
   ],
   "source": [
    "g = []\n",
    "for i in range(2):\n",
    "    for j in range(2):\n",
    "        g.append(m2[i,j].subs([(x,x1),(y,x2*x1**3)]))\n",
    "display(sp.Matrix(g))"
   ]
  },
  {
   "cell_type": "markdown",
   "metadata": {},
   "source": [
    "6. Ко- и контравариантные компоненты вектора скорости в криволинейных координатах."
   ]
  },
  {
   "cell_type": "markdown",
   "metadata": {},
   "source": [
    "\\begin{equation*}\n",
    "   величина \\,{a^j}\\, называется\\,контрвариантной\\,компонентой\\,вектора \\, \\overline{a}\n",
    "   \\\\\n",
    "   a^j =  (\\overline{a} э^j)\n",
    "   \\\\\n",
    "   величина  \\,{a_i} \\, называется\\,ковариантной\\,компонентой\\,вектора \\,\\overline{a}\n",
    "   \\\\\n",
    "   a_i =  (\\overline{a} э_i)\n",
    "\\end{equation*}"
   ]
  },
  {
   "cell_type": "code",
   "execution_count": 20,
   "metadata": {},
   "outputs": [],
   "source": [
    "def scal_umn(v,b):\n",
    "    a = v[0]*b[0]+v[1]*b[1]\n",
    "    return a"
   ]
  },
  {
   "cell_type": "code",
   "execution_count": 21,
   "metadata": {},
   "outputs": [],
   "source": [
    "v_x = 1\n",
    "v_y = x/y\n",
    "v = [v_x,v_y]\n",
    "contr_1 = scal_umn(v,vect_osn_1)\n",
    "contr_2 = scal_umn(v,vect_osn_2)\n",
    "cov_1 = scal_umn(v,vect_vz_1)\n",
    "cov_2 = scal_umn(v,vect_vz_2)"
   ]
  },
  {
   "cell_type": "code",
   "execution_count": 22,
   "metadata": {},
   "outputs": [
    {
     "data": {
      "text/latex": [
       "$\\displaystyle \\frac{1}{x_{1}^{2} x_{2}}$"
      ],
      "text/plain": [
       "1/(x1**2*x2)"
      ]
     },
     "execution_count": 22,
     "metadata": {},
     "output_type": "execute_result"
    }
   ],
   "source": [
    "v_y_cr = v_y.subs([(x,x1),(y,x2*x1**3)])\n",
    "v_y_cr"
   ]
  },
  {
   "cell_type": "code",
   "execution_count": 23,
   "metadata": {},
   "outputs": [
    {
     "name": "stdout",
     "output_type": "stream",
     "text": [
      "v^1 =  4\n",
      "v^2 =  x1/x2\n",
      "v_1 =  1\n",
      "v_2 =  -3*x2/x1 + 1/(x1**5*x2)\n"
     ]
    }
   ],
   "source": [
    "print('v^1 = ',contr_1.subs([(x,x1),(y,x2*x1**3)]))\n",
    "print('v^2 = ',contr_2.subs([(x,x1),(y,x2*x1**3)]))\n",
    "print('v_1 = ',cov_1.subs([(x,x1),(y,x2*x1**3)]))\n",
    "print('v_2 = ',cov_2.subs([(x,x1),(y,x2*x1**3)]))"
   ]
  },
  {
   "cell_type": "markdown",
   "metadata": {},
   "source": [
    "7. Построить вектор скорости в каждом квадранте."
   ]
  },
  {
   "cell_type": "code",
   "execution_count": 24,
   "metadata": {},
   "outputs": [
    {
     "data": {
      "image/png": "[encoded data removed]",
      "text/plain": [
       "<Figure size 648x648 with 1 Axes>"
      ]
     },
     "metadata": {
      "needs_background": "light"
     },
     "output_type": "display_data"
    }
   ],
   "source": [
    "grid_x, grid_y = np.meshgrid(np.arange(-9.5, 10.5, 1), np.arange(-9.5, 10.5, 1))\n",
    "\n",
    "x_shape = grid_x.shape\n",
    "\n",
    "U = np.zeros(x_shape)\n",
    "V = np.zeros(x_shape)\n",
    "\n",
    "\n",
    "for i in range(x_shape[0]):\n",
    "    for j in range(x_shape[0]):\n",
    "        U[i,j] = 1\n",
    "        V[i,j] = float(v_y.subs([(x,grid_x[0][i]),(y,grid_x[0][j])]))\n",
    "\n",
    "\n",
    "fig = plt.figure(figsize=(9, 9))\n",
    "ax = fig.add_subplot(111)\n",
    "#q = ax.quiver(grid_x, grid_y, U, V, units='xy' ,scale=2, color='black')\n",
    "q = ax.streamplot(grid_x, grid_y, U, V, linewidth=2, cmap=plt.cm.inferno,\n",
    "              density=1, arrowstyle='->', arrowsize=1.5)\n",
    "\n",
    "ax.set_aspect('equal')\n",
    "ax.set_xlabel('$x$')\n",
    "ax.set_ylabel('$y$')\n",
    "plt.xlim(-5,5)\n",
    "plt.ylim(-5,5)\n",
    "plt.title('Vector field, v',fontsize=20)\n",
    "plt.grid()\n",
    "plt.show()"
   ]
  },
  {
   "cell_type": "markdown",
   "metadata": {},
   "source": [
    "8. Символы Кристофелля"
   ]
  },
  {
   "cell_type": "code",
   "execution_count": 25,
   "metadata": {},
   "outputs": [
    {
     "name": "stdout",
     "output_type": "stream",
     "text": [
      "x1**6\n"
     ]
    }
   ],
   "source": [
    "print(metr_tenz_1[1][1])"
   ]
  },
  {
   "cell_type": "code",
   "execution_count": 26,
   "metadata": {},
   "outputs": [],
   "source": [
    "def krist(v_1, v_2,q,k,i,j):\n",
    "    a0 = diff(v_1[k][0], q[i])\n",
    "    a1 = diff(v_1[k][1], q[i])\n",
    "    a = [a0,a1]\n",
    "    res = scal_umn(a,v_2[j])\n",
    "    return res"
   ]
  },
  {
   "cell_type": "code",
   "execution_count": 27,
   "metadata": {
    "scrolled": true
   },
   "outputs": [
    {
     "name": "stdout",
     "output_type": "stream",
     "text": [
      "18*x1**3*x2**2\n"
     ]
    }
   ],
   "source": [
    "x_i = [x1, x2]\n",
    "vect_osn = [vect_osn_1, vect_osn_2]\n",
    "vect_vz_1_cr = [vect_vz_1[0].subs([(x,x1),(y,x2*x1**3)]),vect_vz_1[1].subs([(x,x1),(y,x2*x1**3)])]\n",
    "vect_vz_2_cr = [vect_vz_2[0].subs([(x,x1),(y,x2*x1**3)]),vect_vz_2[1].subs([(x,x1),(y,x2*x1**3)])]                                                                     \n",
    "vect_vz = [vect_vz_1_cr, vect_vz_2_cr]\n",
    "GH_1 = krist(vect_osn,vect_osn,x_i,0,0,0)\n",
    "print(GH_1)"
   ]
  },
  {
   "cell_type": "markdown",
   "metadata": {},
   "source": [
    "Символ Кристоффеля первого рода:\n",
    "\\begin{equation*}\n",
    "    \\Gamma_{ki,j} = \\frac{1}{2} (\\frac{\\partial g_{ji}}{\\partial x^k}+ \\frac{\\partial g_{kj}}{\\partial x^i} +\\frac{\\partial g_{ik}}{\\partial x^j} )\n",
    "\\end{equation*}"
   ]
  },
  {
   "cell_type": "code",
   "execution_count": 28,
   "metadata": {
    "scrolled": false
   },
   "outputs": [
    {
     "name": "stdout",
     "output_type": "stream",
     "text": [
      "g111, g121, g211, g221, g112, g122, g212, g222\n"
     ]
    },
    {
     "data": {
      "text/latex": [
       "$\\displaystyle \\left[\\begin{matrix}18.0 x_{1}^{3} x_{2}^{2}\\\\9.0 x_{1}^{4} x_{2}\\\\9.0 x_{1}^{4} x_{2}\\\\0\\\\6.0 x_{1}^{4} x_{2}\\\\3.0 x_{1}^{5}\\\\3.0 x_{1}^{5}\\\\0\\end{matrix}\\right]$"
      ],
      "text/plain": [
       "Matrix([\n",
       "[18.0*x1**3*x2**2],\n",
       "[    9.0*x1**4*x2],\n",
       "[    9.0*x1**4*x2],\n",
       "[               0],\n",
       "[    6.0*x1**4*x2],\n",
       "[       3.0*x1**5],\n",
       "[       3.0*x1**5],\n",
       "[               0]])"
      ]
     },
     "metadata": {},
     "output_type": "display_data"
    }
   ],
   "source": [
    "x_i = [x1, x2]\n",
    "G_1 = []\n",
    "for j in range(2):\n",
    "    for k in range(2):\n",
    "        for i in range(2):\n",
    "            G_1.append(1/2 * (diff(metr_tenz_1[j][i], x_i[k])+diff(metr_tenz_1[k][j], x_i[i])-diff(metr_tenz_1[i][k], x_i[j])))\n",
    "print('g111, g121, g211, g221, g112, g122, g212, g222')\n",
    "G_1_1 = sp.Matrix(G_1)\n",
    "display(G_1_1)"
   ]
  },
  {
   "cell_type": "markdown",
   "metadata": {},
   "source": [
    "Символ Кристоффеля:\n",
    "\\begin{equation*}\n",
    "    \\Gamma_{ki,j} = \\frac{\\partial э_k}{\\partial q^i}*э_j\n",
    "\\end{equation*}"
   ]
  },
  {
   "cell_type": "code",
   "execution_count": 29,
   "metadata": {
    "scrolled": true
   },
   "outputs": [
    {
     "name": "stdout",
     "output_type": "stream",
     "text": [
      "g111, g121, g211, g221, g112, g122, g212, g222\n"
     ]
    },
    {
     "data": {
      "text/latex": [
       "$\\displaystyle \\left[\\begin{matrix}18 x_{1}^{3} x_{2}^{2}\\\\9 x_{1}^{4} x_{2}\\\\9 x_{1}^{4} x_{2}\\\\0\\\\6 x_{1}^{4} x_{2}\\\\3 x_{1}^{5}\\\\3 x_{1}^{5}\\\\0\\end{matrix}\\right]$"
      ],
      "text/plain": [
       "Matrix([\n",
       "[18*x1**3*x2**2],\n",
       "[    9*x1**4*x2],\n",
       "[    9*x1**4*x2],\n",
       "[             0],\n",
       "[    6*x1**4*x2],\n",
       "[       3*x1**5],\n",
       "[       3*x1**5],\n",
       "[             0]])"
      ]
     },
     "metadata": {},
     "output_type": "display_data"
    }
   ],
   "source": [
    "Kr_1 = []\n",
    "for j in range(2):\n",
    "    for k in range(2):\n",
    "        for i in range(2):\n",
    "            Kr_1.append(krist(vect_osn,vect_osn,x_i,k,i,j))\n",
    "print('g111, g121, g211, g221, g112, g122, g212, g222')\n",
    "G_1_1 = sp.Matrix(Kr_1)\n",
    "display(G_1_1)"
   ]
  },
  {
   "cell_type": "markdown",
   "metadata": {},
   "source": [
    "Символ Кристоффеля:\n",
    "\\begin{equation*}\n",
    "    \\Gamma^s_{ki} = \\frac{\\partial э_k}{\\partial q^i}*э^s\n",
    "\\end{equation*}"
   ]
  },
  {
   "cell_type": "code",
   "execution_count": 30,
   "metadata": {},
   "outputs": [
    {
     "name": "stdout",
     "output_type": "stream",
     "text": [
      "g111, g121, g211, g221, g112, g122, g212, g222\n"
     ]
    },
    {
     "data": {
      "text/latex": [
       "$\\displaystyle \\left[\\begin{matrix}0\\\\0\\\\0\\\\0\\\\\\frac{6 x_{2}}{x_{1}^{2}}\\\\\\frac{3}{x_{1}}\\\\\\frac{3}{x_{1}}\\\\0\\end{matrix}\\right]$"
      ],
      "text/plain": [
       "Matrix([\n",
       "[         0],\n",
       "[         0],\n",
       "[         0],\n",
       "[         0],\n",
       "[6*x2/x1**2],\n",
       "[      3/x1],\n",
       "[      3/x1],\n",
       "[         0]])"
      ]
     },
     "metadata": {},
     "output_type": "display_data"
    }
   ],
   "source": [
    "Kr_2 = []\n",
    "for j in range(2):\n",
    "    for k in range(2):\n",
    "        for i in range(2):\n",
    "            Kr_2.append(krist(vect_osn,vect_vz,x_i,k,i,j))\n",
    "print('g111, g121, g211, g221, g112, g122, g212, g222')\n",
    "G = sp.Matrix(Kr_2)\n",
    "display(G)"
   ]
  },
  {
   "cell_type": "markdown",
   "metadata": {},
   "source": [
    "9. Ко- и контравариантные компоненты вектора ускорения в криволинейных координатах."
   ]
  },
  {
   "cell_type": "markdown",
   "metadata": {},
   "source": [
    "\\begin{equation*}\n",
    "   \\overline{w}=w^{i}э_i , w^i = \\frac{\\partial v^i}{\\partial t} + v^{j} \\nabla_j v^i\n",
    "   \\\\\n",
    "   \\nabla_j v^i = \\frac{\\partial v^i}{\\partial x^j} + v^k \\Gamma^j_{ki}\n",
    "\\end{equation*}"
   ]
  },
  {
   "cell_type": "markdown",
   "metadata": {},
   "source": [
    "Контрваринтная компонента вектора ускорения"
   ]
  },
  {
   "cell_type": "code",
   "execution_count": 31,
   "metadata": {},
   "outputs": [
    {
     "name": "stdout",
     "output_type": "stream",
     "text": [
      "[0, 0, 6*x2/x1**2 + 1/(x1**3*x2), 3/x1 - 1/(x1**2*x2**2)]\n"
     ]
    },
    {
     "data": {
      "text/latex": [
       "$\\displaystyle \\left[\\begin{matrix}0\\\\\\frac{6 x_{2}}{x_{1}^{2}} + \\frac{4}{x_{1}^{3} x_{2}} - \\frac{1}{x_{1}^{4} x_{2}^{3}}\\end{matrix}\\right]$"
      ],
      "text/plain": [
       "Matrix([\n",
       "[                                          0],\n",
       "[6*x2/x1**2 + 4/(x1**3*x2) - 1/(x1**4*x2**3)]])"
      ]
     },
     "metadata": {},
     "output_type": "display_data"
    }
   ],
   "source": [
    "w = []\n",
    "v_nabla = []\n",
    "\n",
    "v_nabla.append(sp.diff(v_x, x_i[0]) + v_x*G[0] + v_y_cr*G[1])    # 11\n",
    "v_nabla.append(sp.diff(v_x, x_i[1]) + v_x*G[2] + v_y_cr*G[3])    # 12\n",
    "v_nabla.append(sp.diff(v_y_cr, x_i[0]) + v_x*G[4] + v_y_cr*G[5])    # 21\n",
    "v_nabla.append(sp.diff(v_y_cr, x_i[1]) + v_x*G[6] + v_y_cr*G[7])    # 22\n",
    "\n",
    "print(v_nabla)\n",
    "w.append(v_x*v_nabla[0] + v_y_cr*v_nabla[1])\n",
    "w.append(v_x*v_nabla[2] + v_y_cr*v_nabla[3])\n",
    "w1 = sp.simplify(sp.Matrix(w))\n",
    "display(w1)"
   ]
  },
  {
   "cell_type": "markdown",
   "metadata": {},
   "source": [
    "Ковариантная компонента вектора ускорения:"
   ]
  },
  {
   "cell_type": "code",
   "execution_count": 32,
   "metadata": {},
   "outputs": [
    {
     "data": {
      "text/latex": [
       "$\\displaystyle \\left[\\begin{matrix}- \\frac{18 x_{2}^{2}}{x_{1}^{3}} - \\frac{12}{x_{1}^{4}} + \\frac{3}{x_{1}^{5} x_{2}^{2}}\\\\\\frac{\\left(9 x_{1}^{4} x_{2}^{2} + 1\\right) \\left(6 x_{1}^{2} x_{2}^{4} + 4 x_{1} x_{2}^{2} - 1\\right)}{x_{1}^{10} x_{2}^{3}}\\end{matrix}\\right]$"
      ],
      "text/plain": [
       "Matrix([\n",
       "[                       -18*x2**2/x1**3 - 12/x1**4 + 3/(x1**5*x2**2)],\n",
       "[(9*x1**4*x2**2 + 1)*(6*x1**2*x2**4 + 4*x1*x2**2 - 1)/(x1**10*x2**3)]])"
      ]
     },
     "metadata": {},
     "output_type": "display_data"
    }
   ],
   "source": [
    "W1 = sp.simplify(g[0]*w[0] + g[1]*w[1])\n",
    "W2 = sp.simplify(g[2]*w[0] + g[3]*w[1])\n",
    "\n",
    "W = sp.Matrix([W1, W2])\n",
    "\n",
    "display(W)"
   ]
  },
  {
   "cell_type": "markdown",
   "metadata": {},
   "source": [
    "10. Дивергенцию, градиент и ротор вектора скорости"
   ]
  },
  {
   "cell_type": "markdown",
   "metadata": {},
   "source": [
    "Дивергенция скорости:"
   ]
  },
  {
   "cell_type": "code",
   "execution_count": 33,
   "metadata": {
    "scrolled": false
   },
   "outputs": [
    {
     "data": {
      "text/latex": [
       "$\\displaystyle \\frac{3}{x_{1}} - \\frac{1}{x_{1}^{2} x_{2}^{2}}$"
      ],
      "text/plain": [
       "3/x1 - 1/(x1**2*x2**2)"
      ]
     },
     "metadata": {},
     "output_type": "display_data"
    }
   ],
   "source": [
    "div = v_nabla[0] + v_nabla[3]\n",
    "display(div)"
   ]
  },
  {
   "cell_type": "markdown",
   "metadata": {},
   "source": [
    "Дивергенция скорости через определитель:"
   ]
  },
  {
   "cell_type": "markdown",
   "metadata": {},
   "source": [
    "\\begin{equation*}\n",
    "    div{\\overline{a}} = \\frac{1}{\\sqrt{g}}\\frac{\\partial \\sqrt{g}a^i}{\\partial q^i}\n",
    "\\end{equation*}"
   ]
  },
  {
   "cell_type": "code",
   "execution_count": 34,
   "metadata": {},
   "outputs": [
    {
     "data": {
      "text/latex": [
       "$\\displaystyle \\left[\\begin{matrix}\\frac{3}{x_{1}} - \\frac{1}{x_{1}^{2} x_{2}^{2}}\\end{matrix}\\right]$"
      ],
      "text/plain": [
       "Matrix([[3/x1 - 1/(x1**2*x2**2)]])"
      ]
     },
     "metadata": {},
     "output_type": "display_data"
    }
   ],
   "source": [
    "det_g = x1**3\n",
    "a1 = diff(det_g*v_x,x1)/det_g\n",
    "a2 = diff(det_g*v_y_cr,x2)/det_g\n",
    "a = sp.Matrix([a1+a2])\n",
    "display(a)"
   ]
  },
  {
   "cell_type": "markdown",
   "metadata": {},
   "source": [
    "Градиент скорости:"
   ]
  },
  {
   "cell_type": "code",
   "execution_count": 35,
   "metadata": {},
   "outputs": [
    {
     "data": {
      "text/latex": [
       "$\\displaystyle \\left[\\begin{matrix}0 & 0\\\\\\frac{6}{x_{1}^{4}} & - \\frac{9}{x_{1}^{4}} - \\frac{1}{x_{1}^{8} x_{2}^{2}}\\end{matrix}\\right]$"
      ],
      "text/plain": [
       "Matrix([\n",
       "[      0,                          0],\n",
       "[6/x1**4, -9/x1**4 - 1/(x1**8*x2**2)]])"
      ]
     },
     "metadata": {},
     "output_type": "display_data"
    }
   ],
   "source": [
    "grad_v = []\n",
    "grad_v.append(g[0]*diff(v_x,x1))\n",
    "grad_v.append(g[1]*diff(v_x,x2))\n",
    "grad_v.append(g[2]*diff(v_y_cr,x1))\n",
    "grad_v.append(g[3]*diff(v_y_cr,x2))\n",
    "a = [[grad_v[0],grad_v[1]],[grad_v[2],grad_v[3]]]\n",
    "display(sp.simplify(sp.Matrix(a)))"
   ]
  },
  {
   "cell_type": "markdown",
   "metadata": {},
   "source": [
    "Ротор скорости:"
   ]
  },
  {
   "cell_type": "markdown",
   "metadata": {},
   "source": [
    "\\begin{equation*}\n",
    "    rot{\\overline{a}} = \\frac{1}{\\sqrt{g}}(\\frac{\\partial a_j}{\\partial q^i}-\\frac{\\partial a_i}{\\partial q^j})*э_k\n",
    "\\end{equation*}"
   ]
  },
  {
   "cell_type": "markdown",
   "metadata": {},
   "source": [
    "В нашем двумерном случае ротор скорости будет выглядеть следующим образом"
   ]
  },
  {
   "cell_type": "markdown",
   "metadata": {},
   "source": [
    "\\begin{equation*}\n",
    "    rot{\\overline{v}} = \\frac{1}{\\sqrt{g}}(\\frac{\\partial v_2}{\\partial x^1}-\\frac{\\partial v_1}{\\partial x^2})*\\overline{k}\n",
    "\\end{equation*}"
   ]
  },
  {
   "cell_type": "code",
   "execution_count": 36,
   "metadata": {},
   "outputs": [
    {
     "data": {
      "text/latex": [
       "$\\displaystyle \\left[\\begin{matrix}- \\frac{2}{x_{1}^{6} x_{2}}\\end{matrix}\\right]$"
      ],
      "text/plain": [
       "Matrix([[-2/(x1**6*x2)]])"
      ]
     },
     "metadata": {},
     "output_type": "display_data"
    }
   ],
   "source": [
    "a1 = diff(v_y.subs([(x,x1),(y,x2*x1**3)]),x1)\n",
    "a2 = diff(v_x,x2)\n",
    "a = sp.Matrix([(a1-a2)/det_g])\n",
    "display(a)"
   ]
  },
  {
   "cell_type": "markdown",
   "metadata": {},
   "source": [
    "Лапласиан скорости:"
   ]
  },
  {
   "cell_type": "markdown",
   "metadata": {},
   "source": [
    "11. Получить явные формулы для вычисления градиента и лапласиана скалярной функции \\begin{equation*}\n",
    "    \\phi = \\phi(x^1,x^2) \\end{equation*} в заданных криволинейных координатах."
   ]
  },
  {
   "cell_type": "markdown",
   "metadata": {},
   "source": [
    "\\begin{equation*}\n",
    "    \\nabla{\\phi} = \\frac{\\partial \\phi}{\\partial q^i}*э^i = \\frac{\\partial \\phi}{\\partial x^1}*э_1 +  \\frac{\\partial \\phi}{\\partial x^2}*э_2\n",
    "\\end{equation*}"
   ]
  },
  {
   "cell_type": "code",
   "execution_count": 37,
   "metadata": {},
   "outputs": [
    {
     "data": {
      "text/latex": [
       "$\\displaystyle \\frac{\\partial^{2}}{\\partial x_{2}^{2}} f{\\left(x_{1},x_{2} \\right)}$"
      ],
      "text/plain": [
       "Derivative(f(x1, x2), (x2, 2))"
      ]
     },
     "metadata": {},
     "output_type": "display_data"
    }
   ],
   "source": [
    "from sympy import Function, Derivative\n",
    "from sympy.abc import x, y # x and y are the independent variables\n",
    "f = Function(\"f\")(x1, x2) # f is a function of x and y\n",
    "fx1 = Derivative(f, x1)\n",
    "fx2 = Derivative(f, x2)\n",
    "fx1x2 = Derivative(fx2, x1)\n",
    "fx1x1 = Derivative(fx1, x1)\n",
    "fx2x2 = Derivative(fx2, x2)\n",
    "display(fx2x2)"
   ]
  },
  {
   "cell_type": "code",
   "execution_count": 38,
   "metadata": {},
   "outputs": [
    {
     "data": {
      "text/latex": [
       "$\\displaystyle \\left[\\begin{matrix}\\frac{\\partial}{\\partial x_{1}} f{\\left(x_{1},x_{2} \\right)}\\\\x_{1}^{3} \\frac{\\partial}{\\partial x_{2}} f{\\left(x_{1},x_{2} \\right)} + 3 x_{1}^{2} x_{2} \\frac{\\partial}{\\partial x_{1}} f{\\left(x_{1},x_{2} \\right)}\\end{matrix}\\right]$"
      ],
      "text/plain": [
       "Matrix([\n",
       "[                                             Derivative(f(x1, x2), x1)],\n",
       "[x1**3*Derivative(f(x1, x2), x2) + 3*x1**2*x2*Derivative(f(x1, x2), x1)]])"
      ]
     },
     "metadata": {},
     "output_type": "display_data"
    }
   ],
   "source": [
    "a1 = vect_osn_1[0]*fx1 + vect_osn_2[0]*fx2\n",
    "a2 = vect_osn_1[1]*fx1 + vect_osn_2[1]*fx2\n",
    "grad_f = sp.Matrix([a1,a2])\n",
    "display(grad_f)"
   ]
  },
  {
   "cell_type": "markdown",
   "metadata": {},
   "source": [
    "Лапласиан скалярной функции"
   ]
  },
  {
   "cell_type": "markdown",
   "metadata": {},
   "source": [
    "\\begin{equation*}\n",
    "    \\Delta \\phi = \\nabla^i(\\nabla_i\\phi)=\\frac{1}{\\sqrt g}(\\frac{\\partial}{\\partial x^i}(\\sqrt{g}g^{ij}\\frac{\\partial \\phi}{\\partial x^j}))=\\frac{1}{2x^2}(\\frac{\\partial}{\\partial x^1}(2x^2g^{1j}\\frac{\\partial \\phi}{\\partial x^j})+\\frac{\\partial}{\\partial x^2}(2x^2g^{2j}\\frac{\\partial \\phi}{\\partial x^j}))=\\frac{\\partial g^{11}}{\\partial x^1}\\frac{\\partial \\phi}{\\partial x^1}+g^{11}\\frac{\\partial^2}{(\\partial x^1)^2}+\\frac{\\partial g^{12}}{\\partial x^1}\\frac{\\partial\\phi}{\\partial x^2}+g^{12}\\frac{\\partial^2 \\phi}{\\partial x^1 \\partial x^2}+\\frac{1}{x^2}(g^{21}\\frac{\\partial \\phi}{\\partial x^1}+g^{22}\\frac{\\partial \\phi}{\\partial x^2})+\\frac{\\partial g^{21}}{\\partial x^2}\\frac{\\partial \\phi}{\\partial x^1}+g^{21}\\frac{\\partial^2 \\phi}{\\partial x^1 \\partial x^2} + \\frac{\\partial g^{22}}{\\partial x^2}\\frac{\\partial \\phi}{\\partial x^2} + g^{22}\\frac{\\partial^2 \\phi}{(\\partial x^2)^2}\n",
    "\\end{equation*}"
   ]
  },
  {
   "cell_type": "code",
   "execution_count": 39,
   "metadata": {},
   "outputs": [
    {
     "data": {
      "text/latex": [
       "$\\displaystyle \\left[\\begin{matrix}\\frac{x_{1}^{6} x_{2} \\frac{\\partial^{2}}{\\partial x_{1}^{2}} f{\\left(x_{1},x_{2} \\right)} - 6 x_{1}^{5} x_{2} \\left(x_{2} \\frac{\\partial^{2}}{\\partial x_{2}\\partial x_{1}} f{\\left(x_{1},x_{2} \\right)} + \\frac{\\partial}{\\partial x_{1}} f{\\left(x_{1},x_{2} \\right)}\\right) + x_{2} \\left(9 x_{1}^{4} x_{2}^{2} + 1\\right) \\frac{\\partial^{2}}{\\partial x_{2}^{2}} f{\\left(x_{1},x_{2} \\right)} + \\left(30 x_{1}^{4} x_{2}^{2} + 1\\right) \\frac{\\partial}{\\partial x_{2}} f{\\left(x_{1},x_{2} \\right)}}{x_{1}^{6} x_{2}}\\end{matrix}\\right]$"
      ],
      "text/plain": [
       "Matrix([[(x1**6*x2*Derivative(f(x1, x2), (x1, 2)) - 6*x1**5*x2*(x2*Derivative(f(x1, x2), x1, x2) + Derivative(f(x1, x2), x1)) + x2*(9*x1**4*x2**2 + 1)*Derivative(f(x1, x2), (x2, 2)) + (30*x1**4*x2**2 + 1)*Derivative(f(x1, x2), x2))/(x1**6*x2)]])"
      ]
     },
     "metadata": {},
     "output_type": "display_data"
    }
   ],
   "source": [
    "s1 = diff(g[0],x1)+g[2]/x2+diff(g[2],x2)\n",
    "s2 = diff(g[1],x1)+g[3]/x2+diff(g[3],x2)\n",
    "total = s1*fx1 + s2*fx2 + g[0]*fx1x1 + g[1]*fx1x2 + g[2]*fx1x2 + g[3]*fx2x2\n",
    "display(sp.simplify(sp.Matrix([total])))"
   ]
  }
 ],
 "metadata": {
  "kernelspec": {
   "display_name": "Python 3",
   "language": "python",
   "name": "python3"
  },
  "language_info": {
   "codemirror_mode": {
    "name": "ipython",
    "version": 3
   },
   "file_extension": ".py",
   "mimetype": "text/x-python",
   "name": "python",
   "nbconvert_exporter": "python",
   "pygments_lexer": "ipython3",
   "version": "3.8.3"
  }
 },
 "nbformat": 4,
 "nbformat_minor": 4
}
